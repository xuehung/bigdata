{
 "cells": [
  {
   "cell_type": "markdown",
   "metadata": {},
   "source": [
    "# Jupyter and Data Prep Methods\n",
    "Author: Hsueh-Hung Cheng (AndrewID: hsuehhuc)\n"
   ]
  },
  {
   "cell_type": "markdown",
   "metadata": {},
   "source": [
    "## Environment\n",
    "- Python 2.7\n",
    "- No NumPy is required"
   ]
  },
  {
   "cell_type": "markdown",
   "metadata": {},
   "source": [
    "## Modules\n",
    "Import modules required in this assignment"
   ]
  },
  {
   "cell_type": "code",
   "execution_count": 38,
   "metadata": {
    "collapsed": true
   },
   "outputs": [],
   "source": [
    "import collections\n",
    "import datetime\n",
    "import math\n",
    "import time\n",
    "import os\n",
    "from os.path import join\n",
    "from IPython.lib import kernel"
   ]
  },
  {
   "cell_type": "markdown",
   "metadata": {},
   "source": [
    "## Configuration\n",
    "Please update the code below if necessary. **The one you have to modify is the path of input folder (variable named FXDATA_PATH)**"
   ]
  },
  {
   "cell_type": "code",
   "execution_count": 39,
   "metadata": {
    "collapsed": false
   },
   "outputs": [],
   "source": [
    "# Configuration\n",
    "FXDATA_PATH = \"/Users/xuehung/Downloads/FXData2014\"\n",
    "YEAR = 2014\n",
    "ANDREW_ID = \"hsuehhuc\"\n",
    "INTERPOLATION_METHOD = [\"linear\", \"cosin\", \"cubic\"]\n",
    "OUTPUT_PATH = os.getcwd()\n",
    "\n",
    "# Global variables\n",
    "EPOCH = datetime.datetime(1970,1,1)"
   ]
  },
  {
   "cell_type": "markdown",
   "metadata": {},
   "source": [
    "## Data Synthesis / Shaping Section\n",
    "The code below will read input files"
   ]
  },
  {
   "cell_type": "code",
   "execution_count": 40,
   "metadata": {
    "collapsed": false
   },
   "outputs": [
    {
     "name": "stdout",
     "output_type": "stream",
     "text": [
      "=== Processing currencies AUDJPY\n",
      "Processing file AUDJPY-2014-01.csv\n"
     ]
    }
   ],
   "source": [
    "# Process the data in a single file\n",
    "def process_month(input_filepath, matrix):\n",
    "    with open(input_filepath) as fin:\n",
    "        for line in fin:\n",
    "            try:\n",
    "                # Only use bid\n",
    "                currency, timestamp, bid, ask = line.strip().split(',')\n",
    "                bid = float(bid)\n",
    "                date, time = timestamp.strip().split()\n",
    "                hour, minute, second = time.split(\":\")\n",
    "                minute = datetime.datetime(int(date[0:4]), int(date[4:6]), int(date[6:8]), int(hour), int(minute))\n",
    "                minute = int((minute - EPOCH).total_seconds() / 60)\n",
    "\n",
    "                if minute not in matrix:\n",
    "                    matrix[minute] = [bid, bid, bid]\n",
    "                else:\n",
    "                    matrix[minute][0] = max(matrix[minute][0], bid)\n",
    "                    matrix[minute][1] = min(matrix[minute][1], bid)\n",
    "                    matrix[minute][2] = bid\n",
    "            except Exception, e:\n",
    "                print \"Invalid inpute data: %s (%s)\" % (line, str(e))\n",
    "    return\n",
    "\n",
    "# Process all files given the currency\n",
    "def process_currency(currency, input_folder_path):\n",
    "    fx_files = sorted([f for f in os.listdir(input_folder_path) if f.endswith(\".csv\")])\n",
    "    # output_filepath = join(input_folder_path, \"%s_result.csv\" % currency)\n",
    "\n",
    "    # Key is time range start\n",
    "    # Element is a list [max, min, close]\n",
    "    matrix = {}\n",
    "    # Update the matrix by iterating csv files\n",
    "    for filename in fx_files:\n",
    "        print \"Processing file %s\" % filename\n",
    "        process_month(join(input_folder_path, filename), matrix)\n",
    "    return matrix\n",
    "\n",
    "currency_list = [] # The currecies to process\n",
    "matrix_list = [] # The variable to store statistics data                                                                                                                      \n",
    "\n",
    "# Get all directories in the input folder\n",
    "folders = [ f for f in os.listdir(FXDATA_PATH) if os.path.isdir(join(FXDATA_PATH, f))]\n",
    "\n",
    "folders = folders[:1]\n",
    "\n",
    "for currency in folders:\n",
    "    print \"=== Processing currencies %s\" % currency\n",
    "    matrix = process_currency(currency, join(FXDATA_PATH, currency))\n",
    "    matrix_list.append(matrix)\n",
    "    currency_list.append(currency)"
   ]
  },
  {
   "cell_type": "markdown",
   "metadata": {
    "collapsed": true
   },
   "source": [
    "## Data Description Section\n",
    "The below function will do the statistics and return all numbers in a list."
   ]
  },
  {
   "cell_type": "code",
   "execution_count": 41,
   "metadata": {
    "collapsed": true
   },
   "outputs": [],
   "source": [
    "def get_data_description(matrix):\n",
    "    mean = [0, 0, 0]\n",
    "    g_mean =[1, 1, 1]\n",
    "    h_mean = [0, 0, 0]\n",
    "    mode = [0, 0, 0]\n",
    "    median = [0, 0, 0]\n",
    "    variance = [0, 0, 0]\n",
    "\n",
    "    n = len(matrix)\n",
    "    r_n = 1 / float(n)\n",
    "    for value in matrix.itervalues():\n",
    "        for i in range(3):\n",
    "            mean[i] = mean[i] + value[i]\n",
    "            g_mean[i] = g_mean[i] * pow(value[i], r_n)\n",
    "            h_mean[i] = h_mean[i] + 1 / value[i]\n",
    "            variance[i] = variance[i] + (value[i] * value[i]) / n\n",
    "    mean = map(lambda x : x / n, mean)\n",
    "    h_mean = map(lambda x : n / x, h_mean)\n",
    "    for i in range(3):\n",
    "        variance[i] = variance[i] - (mean[i] * mean[i])\n",
    "    sigma = map(lambda x : pow(x, 0.5), variance)\n",
    "\n",
    "    for i in range(3):\n",
    "        arr = sorted(map(lambda x : x[i], matrix.itervalues()))\n",
    "        mode[i] = collections.Counter(arr).most_common(1)[0][0]\n",
    "        median[i] = arr[n/2] if n % 2 == 1 else (arr[n/2] + arr[n/2 - 1]) / 2\n",
    "\n",
    "    return mean + g_mean + h_mean + mode + median + mean + sigma"
   ]
  },
  {
   "cell_type": "code",
   "execution_count": 42,
   "metadata": {
    "collapsed": false
   },
   "outputs": [
    {
     "name": "stdout",
     "output_type": "stream",
     "text": [
      "Data Description_ has been written to /Users/xuehung/xuehng/cmu/11675/hw2/data_description_hsuehhuc.csv\n"
     ]
    }
   ],
   "source": [
    "data_description_filepath = join(OUTPUT_PATH, \"data_description_%s.csv\" % ANDREW_ID)\n",
    "with open(data_description_filepath, \"w\") as fout:\n",
    "    title = [\"Mean\", \"GeometricMean\", \"HarmonicMean\", \"Mode\", \"Median\", \"Mu\", \"Sigma\"]\n",
    "    price = [\"Low\", \"High\", \"Close\"]\n",
    "    fout.write(\"Currency\")\n",
    "    for t in title:\n",
    "        for p in price:\n",
    "            fout.write(\"\\t%s(%s)\" % (t, p))\n",
    "    fout.write(\"\\n\")\n",
    "    for i in range(len(currency_list)):\n",
    "        fout.write(currency_list[i] + \"\\t\")\n",
    "        data = get_data_description(matrix_list[i])\n",
    "        fout.write(\"\\t\".join(map(lambda x : str(x), data)) + \"\\n\")\n",
    "print \"Data Description_ has been written to %s\" % data_description_filepath"
   ]
  },
  {
   "cell_type": "markdown",
   "metadata": {},
   "source": [
    "## Data Interpolation Section\n",
    "Firstly three interpolation functions are defined"
   ]
  },
  {
   "cell_type": "code",
   "execution_count": 43,
   "metadata": {
    "collapsed": true
   },
   "outputs": [],
   "source": [
    "def linear_interpolate(y1, y2, mu):\n",
    "    mu = float(mu)\n",
    "    return y1 * (1 - mu) + y2 * mu\n",
    "\n",
    "def cosin_interpolate(y1, y2, mu):\n",
    "    mu = float(mu)\n",
    "    mu2 = (1 - math.cos(mu * math.pi)) / 2;\n",
    "    return y1 * (1 - mu2) + y2 * mu2\n",
    "\n",
    "def cubic_interpolate(y0, y1, y2, y3, mu):\n",
    "    mu = float(mu)\n",
    "    mu2 = mu * mu\n",
    "    a0 = y3 - y2 - y0 + y1;\n",
    "    a1 = y0 - y1 - a0;\n",
    "    a2 = y2 - y0;\n",
    "    a3 = y1;\n",
    "    return a0 * mu * mu2 + a1 * mu2 + a2 * mu + a3\n",
    "\n",
    "def interpolate(method, _matrix):\n",
    "    interpolate_func = None\n",
    "    # Determine which interpolation method is used\n",
    "    if method == \"linear\":\n",
    "        interpolate_func = linear_interpolate\n",
    "    elif method == \"cosin\":\n",
    "        interpolate_func = cosin_interpolate\n",
    "    elif method == \"cubic\":\n",
    "        interpolate_func = cubic_interpolate\n",
    "    else:\n",
    "        raise Exception(\"Unknown Interpolation Method\")\n",
    "\n",
    "    matrix = _matrix.copy()\n",
    "\n",
    "    keys = sorted(matrix.keys())\n",
    "    klen = len(keys)\n",
    "\n",
    "    # Interate all timestamps\n",
    "    for i in range(klen - 1):\n",
    "        t1 = keys[i]\n",
    "        t2 = keys[i + 1]\n",
    "        if t2 - t1 == 1:\n",
    "            continue\n",
    "        # Do the interpolation\n",
    "        for t in range(t1 + 1, t2):\n",
    "            mu = (t - t1) / float(t2 - t1)\n",
    "            # Initialize the list\n",
    "            matrix[t] = [0, 0, 0]\n",
    "            for j in range(3):\n",
    "                y1 = matrix[t1][j]\n",
    "                y2 = matrix[t2][j]\n",
    "                if method != \"cubic\":\n",
    "                    matrix[t][j] = interpolate_func(y1, y2, mu)\n",
    "                elif i != 0 and i + 2 < klen:\n",
    "                    y0 = matrix[keys[i - 1]][j]\n",
    "                    y3 = matrix[keys[i + 2]][j]\n",
    "                    matrix[t][j] = interpolate_func(y0, y1, y2, y3, mu)\n",
    "    return matrix"
   ]
  },
  {
   "cell_type": "markdown",
   "metadata": {},
   "source": [
    "Secondly, apply the above interpolation functions on the data. And write the output to files"
   ]
  },
  {
   "cell_type": "code",
   "execution_count": 44,
   "metadata": {
    "collapsed": false
   },
   "outputs": [
    {
     "name": "stdout",
     "output_type": "stream",
     "text": [
      "Interpolate data with linear interpolation\n",
      "Output has been written to /Users/xuehung/xuehng/cmu/11675/hw2/linear_result_hsuehhuc.csv\n",
      "Interpolate data with cosin interpolation\n",
      "Output has been written to /Users/xuehung/xuehng/cmu/11675/hw2/cosin_result_hsuehhuc.csv\n",
      "Interpolate data with cubic interpolation\n",
      "Output has been written to /Users/xuehung/xuehng/cmu/11675/hw2/cubic_result_hsuehhuc.csv\n"
     ]
    }
   ],
   "source": [
    "# Run each interpolation method\n",
    "for interpolate_method in INTERPOLATION_METHOD:\n",
    "    print \"Interpolate data with %s interpolation\" % interpolate_method\n",
    "    interpolated_matrix = map(lambda x: interpolate(interpolate_method, matrix), matrix_list)\n",
    "    # Output to files\n",
    "    output_file_path = join(OUTPUT_PATH, \"%s_result_%s.csv\" % (interpolate_method, ANDREW_ID))\n",
    "    with open(output_file_path, \"w\") as fout:\n",
    "        # Find the first and last minutes\n",
    "        start_min = int((datetime.datetime(YEAR, 1, 1, 0, 0) - EPOCH).total_seconds() / 60)\n",
    "        end_min = int((datetime.datetime(YEAR, 12, 31, 23, 59) - EPOCH).total_seconds() / 60)\n",
    "        fout.write(\"Time\\t\")\n",
    "        for currency in currency_list:\n",
    "            fout.write(\"Min(%s)\\tMax(%s)\\tFinal(%s)\\t\" % (currency, currency, currency))\n",
    "        fout.write(\"\\n\")\n",
    "        while start_min <= end_min:\n",
    "            timestamp = datetime.datetime.utcfromtimestamp(start_min * 60).strftime('%Y-%m-%d %H:%M')\n",
    "            fout.write(\"%s\\t\" % timestamp)\n",
    "            # For each currency\n",
    "            for i in range(len(currency_list)):\n",
    "                if start_min in interpolated_matrix[i]:\n",
    "                    data = interpolated_matrix[i][start_min]\n",
    "                    fout.write(\"%f\\t%f\\t%f\\t\" % (data[0], data[1], data[2]))\n",
    "                else:\n",
    "                    fout.write(\"N/A\\tN/A\\tN/A\\t\")\n",
    "            fout.write(\"\\n\")\n",
    "            start_min = start_min + 1\n",
    "        print \"Output has been written to %s\" % output_file_path"
   ]
  },
  {
   "cell_type": "code",
   "execution_count": null,
   "metadata": {
    "collapsed": true
   },
   "outputs": [],
   "source": []
  }
 ],
 "metadata": {
  "kernelspec": {
   "display_name": "Python 2",
   "language": "python",
   "name": "python2"
  },
  "language_info": {
   "codemirror_mode": {
    "name": "ipython",
    "version": 2
   },
   "file_extension": ".py",
   "mimetype": "text/x-python",
   "name": "python",
   "nbconvert_exporter": "python",
   "pygments_lexer": "ipython2",
   "version": "2.7.9"
  }
 },
 "nbformat": 4,
 "nbformat_minor": 0
}
